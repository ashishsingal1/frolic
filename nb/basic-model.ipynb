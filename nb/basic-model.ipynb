{
 "cells": [
  {
   "cell_type": "code",
   "execution_count": 55,
   "metadata": {
    "ExecuteTime": {
     "end_time": "2018-08-15T19:35:01.305897Z",
     "start_time": "2018-08-15T19:35:01.296920Z"
    }
   },
   "outputs": [],
   "source": [
    "# standard imports\n",
    "import sys, os, datetime, pandas as pd, warnings, importlib, xgboost, sklearn\n",
    "sys.path.insert(1, os.path.join(sys.path[0], '..'))\n",
    "import frolic\n",
    "importlib.reload(frolic)\n",
    "warnings.filterwarnings(\"ignore\")\n",
    "%matplotlib inline"
   ]
  },
  {
   "cell_type": "code",
   "execution_count": 56,
   "metadata": {
    "ExecuteTime": {
     "end_time": "2018-08-15T19:35:01.341801Z",
     "start_time": "2018-08-15T19:35:01.307891Z"
    }
   },
   "outputs": [],
   "source": [
    "df = pd.read_csv('../data/tmp.csv')"
   ]
  },
  {
   "cell_type": "markdown",
   "metadata": {},
   "source": [
    "# Explore"
   ]
  },
  {
   "cell_type": "code",
   "execution_count": 57,
   "metadata": {
    "ExecuteTime": {
     "end_time": "2018-08-15T19:35:01.365736Z",
     "start_time": "2018-08-15T19:35:01.343795Z"
    }
   },
   "outputs": [
    {
     "data": {
      "text/html": [
       "<div>\n",
       "<style scoped>\n",
       "    .dataframe tbody tr th:only-of-type {\n",
       "        vertical-align: middle;\n",
       "    }\n",
       "\n",
       "    .dataframe tbody tr th {\n",
       "        vertical-align: top;\n",
       "    }\n",
       "\n",
       "    .dataframe thead th {\n",
       "        text-align: right;\n",
       "    }\n",
       "</style>\n",
       "<table border=\"1\" class=\"dataframe\">\n",
       "  <thead>\n",
       "    <tr style=\"text-align: right;\">\n",
       "      <th></th>\n",
       "      <th>id</th>\n",
       "      <th>title</th>\n",
       "      <th>body</th>\n",
       "      <th>accepted_answer_id</th>\n",
       "      <th>answer_count</th>\n",
       "      <th>comment_count</th>\n",
       "      <th>community_owned_date</th>\n",
       "      <th>creation_date</th>\n",
       "      <th>favorite_count</th>\n",
       "      <th>last_activity_date</th>\n",
       "      <th>last_edit_date</th>\n",
       "      <th>last_editor_display_name</th>\n",
       "      <th>last_editor_user_id</th>\n",
       "      <th>owner_display_name</th>\n",
       "      <th>owner_user_id</th>\n",
       "      <th>post_type_id</th>\n",
       "      <th>score</th>\n",
       "      <th>tags</th>\n",
       "      <th>view_count</th>\n",
       "    </tr>\n",
       "  </thead>\n",
       "  <tbody>\n",
       "    <tr>\n",
       "      <th>0</th>\n",
       "      <td>49330014</td>\n",
       "      <td>How can I return all results from one table co...</td>\n",
       "      <td>&lt;p&gt;I have something like this:&lt;/p&gt;\\n\\n&lt;pre&gt;&lt;co...</td>\n",
       "      <td>49330042.0</td>\n",
       "      <td>1</td>\n",
       "      <td>0</td>\n",
       "      <td>NaN</td>\n",
       "      <td>2018-03-16 21:51:38.587 UTC</td>\n",
       "      <td>NaN</td>\n",
       "      <td>2018-06-03 05:19:16.310 UTC</td>\n",
       "      <td>2018-06-03 05:19:16.310 UTC</td>\n",
       "      <td>NaN</td>\n",
       "      <td>2395282.0</td>\n",
       "      <td>NaN</td>\n",
       "      <td>1604072.0</td>\n",
       "      <td>1</td>\n",
       "      <td>0</td>\n",
       "      <td>mysql|sql</td>\n",
       "      <td>30</td>\n",
       "    </tr>\n",
       "    <tr>\n",
       "      <th>1</th>\n",
       "      <td>50663511</td>\n",
       "      <td>How to Change the format of values of a column...</td>\n",
       "      <td>&lt;p&gt;How to Change the 'n' number of timestamp i...</td>\n",
       "      <td>NaN</td>\n",
       "      <td>0</td>\n",
       "      <td>0</td>\n",
       "      <td>NaN</td>\n",
       "      <td>2018-06-03 05:18:45.117 UTC</td>\n",
       "      <td>NaN</td>\n",
       "      <td>2018-06-03 05:18:45.117 UTC</td>\n",
       "      <td>NaN</td>\n",
       "      <td>NaN</td>\n",
       "      <td>NaN</td>\n",
       "      <td>NaN</td>\n",
       "      <td>6897644.0</td>\n",
       "      <td>1</td>\n",
       "      <td>0</td>\n",
       "      <td>javascript|powershell|csv</td>\n",
       "      <td>2</td>\n",
       "    </tr>\n",
       "    <tr>\n",
       "      <th>2</th>\n",
       "      <td>50663510</td>\n",
       "      <td>How to design an online test website?</td>\n",
       "      <td>&lt;p&gt;My question revolves about the system desig...</td>\n",
       "      <td>NaN</td>\n",
       "      <td>0</td>\n",
       "      <td>0</td>\n",
       "      <td>NaN</td>\n",
       "      <td>2018-06-03 05:18:39.600 UTC</td>\n",
       "      <td>NaN</td>\n",
       "      <td>2018-06-03 05:18:39.600 UTC</td>\n",
       "      <td>NaN</td>\n",
       "      <td>NaN</td>\n",
       "      <td>NaN</td>\n",
       "      <td>NaN</td>\n",
       "      <td>9874027.0</td>\n",
       "      <td>1</td>\n",
       "      <td>0</td>\n",
       "      <td>system-design</td>\n",
       "      <td>2</td>\n",
       "    </tr>\n",
       "    <tr>\n",
       "      <th>3</th>\n",
       "      <td>13722144</td>\n",
       "      <td>folder permissions in liferay</td>\n",
       "      <td>&lt;p&gt;Can any one answer how to change folder per...</td>\n",
       "      <td>NaN</td>\n",
       "      <td>2</td>\n",
       "      <td>1</td>\n",
       "      <td>NaN</td>\n",
       "      <td>2012-12-05 11:21:59.887 UTC</td>\n",
       "      <td>NaN</td>\n",
       "      <td>2018-06-03 05:18:29.880 UTC</td>\n",
       "      <td>NaN</td>\n",
       "      <td>NaN</td>\n",
       "      <td>NaN</td>\n",
       "      <td>NaN</td>\n",
       "      <td>1878833.0</td>\n",
       "      <td>1</td>\n",
       "      <td>2</td>\n",
       "      <td>liferay-ide</td>\n",
       "      <td>1307</td>\n",
       "    </tr>\n",
       "    <tr>\n",
       "      <th>4</th>\n",
       "      <td>50662219</td>\n",
       "      <td>Memory Error while trying to read csv on AWS</td>\n",
       "      <td>&lt;p&gt;When I am running the following code, I am ...</td>\n",
       "      <td>NaN</td>\n",
       "      <td>0</td>\n",
       "      <td>0</td>\n",
       "      <td>NaN</td>\n",
       "      <td>2018-06-03 00:09:14 UTC</td>\n",
       "      <td>1.0</td>\n",
       "      <td>2018-06-03 05:18:25.680 UTC</td>\n",
       "      <td>2018-06-03 05:18:25.680 UTC</td>\n",
       "      <td>NaN</td>\n",
       "      <td>2555451.0</td>\n",
       "      <td>NaN</td>\n",
       "      <td>9885542.0</td>\n",
       "      <td>1</td>\n",
       "      <td>0</td>\n",
       "      <td>python|amazon-ec2</td>\n",
       "      <td>8</td>\n",
       "    </tr>\n",
       "  </tbody>\n",
       "</table>\n",
       "</div>"
      ],
      "text/plain": [
       "         id                                              title  \\\n",
       "0  49330014  How can I return all results from one table co...   \n",
       "1  50663511  How to Change the format of values of a column...   \n",
       "2  50663510              How to design an online test website?   \n",
       "3  13722144                      folder permissions in liferay   \n",
       "4  50662219       Memory Error while trying to read csv on AWS   \n",
       "\n",
       "                                                body  accepted_answer_id  \\\n",
       "0  <p>I have something like this:</p>\\n\\n<pre><co...          49330042.0   \n",
       "1  <p>How to Change the 'n' number of timestamp i...                 NaN   \n",
       "2  <p>My question revolves about the system desig...                 NaN   \n",
       "3  <p>Can any one answer how to change folder per...                 NaN   \n",
       "4  <p>When I am running the following code, I am ...                 NaN   \n",
       "\n",
       "   answer_count  comment_count  community_owned_date  \\\n",
       "0             1              0                   NaN   \n",
       "1             0              0                   NaN   \n",
       "2             0              0                   NaN   \n",
       "3             2              1                   NaN   \n",
       "4             0              0                   NaN   \n",
       "\n",
       "                 creation_date  favorite_count           last_activity_date  \\\n",
       "0  2018-03-16 21:51:38.587 UTC             NaN  2018-06-03 05:19:16.310 UTC   \n",
       "1  2018-06-03 05:18:45.117 UTC             NaN  2018-06-03 05:18:45.117 UTC   \n",
       "2  2018-06-03 05:18:39.600 UTC             NaN  2018-06-03 05:18:39.600 UTC   \n",
       "3  2012-12-05 11:21:59.887 UTC             NaN  2018-06-03 05:18:29.880 UTC   \n",
       "4      2018-06-03 00:09:14 UTC             1.0  2018-06-03 05:18:25.680 UTC   \n",
       "\n",
       "                last_edit_date last_editor_display_name  last_editor_user_id  \\\n",
       "0  2018-06-03 05:19:16.310 UTC                      NaN            2395282.0   \n",
       "1                          NaN                      NaN                  NaN   \n",
       "2                          NaN                      NaN                  NaN   \n",
       "3                          NaN                      NaN                  NaN   \n",
       "4  2018-06-03 05:18:25.680 UTC                      NaN            2555451.0   \n",
       "\n",
       "  owner_display_name  owner_user_id  post_type_id  score  \\\n",
       "0                NaN      1604072.0             1      0   \n",
       "1                NaN      6897644.0             1      0   \n",
       "2                NaN      9874027.0             1      0   \n",
       "3                NaN      1878833.0             1      2   \n",
       "4                NaN      9885542.0             1      0   \n",
       "\n",
       "                        tags  view_count  \n",
       "0                  mysql|sql          30  \n",
       "1  javascript|powershell|csv           2  \n",
       "2              system-design           2  \n",
       "3                liferay-ide        1307  \n",
       "4          python|amazon-ec2           8  "
      ]
     },
     "execution_count": 57,
     "metadata": {},
     "output_type": "execute_result"
    }
   ],
   "source": [
    "df.head()"
   ]
  },
  {
   "cell_type": "code",
   "execution_count": 58,
   "metadata": {
    "ExecuteTime": {
     "end_time": "2018-08-15T19:35:01.378702Z",
     "start_time": "2018-08-15T19:35:01.366735Z"
    }
   },
   "outputs": [
    {
     "data": {
      "text/plain": [
       "id                            int64\n",
       "title                        object\n",
       "body                         object\n",
       "accepted_answer_id          float64\n",
       "answer_count                  int64\n",
       "comment_count                 int64\n",
       "community_owned_date        float64\n",
       "creation_date                object\n",
       "favorite_count              float64\n",
       "last_activity_date           object\n",
       "last_edit_date               object\n",
       "last_editor_display_name     object\n",
       "last_editor_user_id         float64\n",
       "owner_display_name           object\n",
       "owner_user_id               float64\n",
       "post_type_id                  int64\n",
       "score                         int64\n",
       "tags                         object\n",
       "view_count                    int64\n",
       "dtype: object"
      ]
     },
     "execution_count": 58,
     "metadata": {},
     "output_type": "execute_result"
    }
   ],
   "source": [
    "df.dtypes"
   ]
  },
  {
   "cell_type": "code",
   "execution_count": 59,
   "metadata": {
    "ExecuteTime": {
     "end_time": "2018-08-15T19:35:01.434552Z",
     "start_time": "2018-08-15T19:35:01.379699Z"
    }
   },
   "outputs": [
    {
     "data": {
      "text/html": [
       "<div>\n",
       "<style scoped>\n",
       "    .dataframe tbody tr th:only-of-type {\n",
       "        vertical-align: middle;\n",
       "    }\n",
       "\n",
       "    .dataframe tbody tr th {\n",
       "        vertical-align: top;\n",
       "    }\n",
       "\n",
       "    .dataframe thead th {\n",
       "        text-align: right;\n",
       "    }\n",
       "</style>\n",
       "<table border=\"1\" class=\"dataframe\">\n",
       "  <thead>\n",
       "    <tr style=\"text-align: right;\">\n",
       "      <th></th>\n",
       "      <th>id</th>\n",
       "      <th>accepted_answer_id</th>\n",
       "      <th>answer_count</th>\n",
       "      <th>comment_count</th>\n",
       "      <th>community_owned_date</th>\n",
       "      <th>favorite_count</th>\n",
       "      <th>last_editor_user_id</th>\n",
       "      <th>owner_user_id</th>\n",
       "      <th>post_type_id</th>\n",
       "      <th>score</th>\n",
       "      <th>view_count</th>\n",
       "    </tr>\n",
       "  </thead>\n",
       "  <tbody>\n",
       "    <tr>\n",
       "      <th>count</th>\n",
       "      <td>1.000000e+03</td>\n",
       "      <td>1.750000e+02</td>\n",
       "      <td>1000.00000</td>\n",
       "      <td>1000.000000</td>\n",
       "      <td>0.0</td>\n",
       "      <td>162.000000</td>\n",
       "      <td>5.170000e+02</td>\n",
       "      <td>9.980000e+02</td>\n",
       "      <td>1000.0</td>\n",
       "      <td>1000.000000</td>\n",
       "      <td>1.000000e+03</td>\n",
       "    </tr>\n",
       "    <tr>\n",
       "      <th>mean</th>\n",
       "      <td>4.713473e+07</td>\n",
       "      <td>3.776890e+07</td>\n",
       "      <td>1.18000</td>\n",
       "      <td>1.732000</td>\n",
       "      <td>NaN</td>\n",
       "      <td>14.993827</td>\n",
       "      <td>4.747600e+06</td>\n",
       "      <td>6.040517e+06</td>\n",
       "      <td>1.0</td>\n",
       "      <td>9.313000</td>\n",
       "      <td>5.608378e+03</td>\n",
       "    </tr>\n",
       "    <tr>\n",
       "      <th>std</th>\n",
       "      <td>1.026877e+07</td>\n",
       "      <td>1.754691e+07</td>\n",
       "      <td>2.23217</td>\n",
       "      <td>2.763659</td>\n",
       "      <td>NaN</td>\n",
       "      <td>84.874880</td>\n",
       "      <td>3.237443e+06</td>\n",
       "      <td>3.365211e+06</td>\n",
       "      <td>0.0</td>\n",
       "      <td>160.271588</td>\n",
       "      <td>6.071712e+04</td>\n",
       "    </tr>\n",
       "    <tr>\n",
       "      <th>min</th>\n",
       "      <td>2.081050e+05</td>\n",
       "      <td>2.081060e+05</td>\n",
       "      <td>0.00000</td>\n",
       "      <td>0.000000</td>\n",
       "      <td>NaN</td>\n",
       "      <td>0.000000</td>\n",
       "      <td>-1.000000e+00</td>\n",
       "      <td>1.152200e+04</td>\n",
       "      <td>1.0</td>\n",
       "      <td>-9.000000</td>\n",
       "      <td>2.000000e+00</td>\n",
       "    </tr>\n",
       "    <tr>\n",
       "      <th>25%</th>\n",
       "      <td>5.064909e+07</td>\n",
       "      <td>2.435046e+07</td>\n",
       "      <td>0.00000</td>\n",
       "      <td>0.000000</td>\n",
       "      <td>NaN</td>\n",
       "      <td>1.000000</td>\n",
       "      <td>1.604243e+06</td>\n",
       "      <td>2.850438e+06</td>\n",
       "      <td>1.0</td>\n",
       "      <td>0.000000</td>\n",
       "      <td>1.000000e+01</td>\n",
       "    </tr>\n",
       "    <tr>\n",
       "      <th>50%</th>\n",
       "      <td>5.066245e+07</td>\n",
       "      <td>4.989288e+07</td>\n",
       "      <td>1.00000</td>\n",
       "      <td>1.000000</td>\n",
       "      <td>NaN</td>\n",
       "      <td>1.000000</td>\n",
       "      <td>5.007059e+06</td>\n",
       "      <td>6.754588e+06</td>\n",
       "      <td>1.0</td>\n",
       "      <td>0.000000</td>\n",
       "      <td>1.700000e+01</td>\n",
       "    </tr>\n",
       "    <tr>\n",
       "      <th>75%</th>\n",
       "      <td>5.066301e+07</td>\n",
       "      <td>5.066248e+07</td>\n",
       "      <td>1.00000</td>\n",
       "      <td>2.000000</td>\n",
       "      <td>NaN</td>\n",
       "      <td>3.750000</td>\n",
       "      <td>7.311767e+06</td>\n",
       "      <td>9.454364e+06</td>\n",
       "      <td>1.0</td>\n",
       "      <td>1.000000</td>\n",
       "      <td>3.400000e+01</td>\n",
       "    </tr>\n",
       "    <tr>\n",
       "      <th>max</th>\n",
       "      <td>5.066351e+07</td>\n",
       "      <td>5.066351e+07</td>\n",
       "      <td>34.00000</td>\n",
       "      <td>25.000000</td>\n",
       "      <td>NaN</td>\n",
       "      <td>816.000000</td>\n",
       "      <td>9.887077e+06</td>\n",
       "      <td>9.887097e+06</td>\n",
       "      <td>1.0</td>\n",
       "      <td>4759.000000</td>\n",
       "      <td>1.625704e+06</td>\n",
       "    </tr>\n",
       "  </tbody>\n",
       "</table>\n",
       "</div>"
      ],
      "text/plain": [
       "                 id  accepted_answer_id  answer_count  comment_count  \\\n",
       "count  1.000000e+03        1.750000e+02    1000.00000    1000.000000   \n",
       "mean   4.713473e+07        3.776890e+07       1.18000       1.732000   \n",
       "std    1.026877e+07        1.754691e+07       2.23217       2.763659   \n",
       "min    2.081050e+05        2.081060e+05       0.00000       0.000000   \n",
       "25%    5.064909e+07        2.435046e+07       0.00000       0.000000   \n",
       "50%    5.066245e+07        4.989288e+07       1.00000       1.000000   \n",
       "75%    5.066301e+07        5.066248e+07       1.00000       2.000000   \n",
       "max    5.066351e+07        5.066351e+07      34.00000      25.000000   \n",
       "\n",
       "       community_owned_date  favorite_count  last_editor_user_id  \\\n",
       "count                   0.0      162.000000         5.170000e+02   \n",
       "mean                    NaN       14.993827         4.747600e+06   \n",
       "std                     NaN       84.874880         3.237443e+06   \n",
       "min                     NaN        0.000000        -1.000000e+00   \n",
       "25%                     NaN        1.000000         1.604243e+06   \n",
       "50%                     NaN        1.000000         5.007059e+06   \n",
       "75%                     NaN        3.750000         7.311767e+06   \n",
       "max                     NaN      816.000000         9.887077e+06   \n",
       "\n",
       "       owner_user_id  post_type_id        score    view_count  \n",
       "count   9.980000e+02        1000.0  1000.000000  1.000000e+03  \n",
       "mean    6.040517e+06           1.0     9.313000  5.608378e+03  \n",
       "std     3.365211e+06           0.0   160.271588  6.071712e+04  \n",
       "min     1.152200e+04           1.0    -9.000000  2.000000e+00  \n",
       "25%     2.850438e+06           1.0     0.000000  1.000000e+01  \n",
       "50%     6.754588e+06           1.0     0.000000  1.700000e+01  \n",
       "75%     9.454364e+06           1.0     1.000000  3.400000e+01  \n",
       "max     9.887097e+06           1.0  4759.000000  1.625704e+06  "
      ]
     },
     "execution_count": 59,
     "metadata": {},
     "output_type": "execute_result"
    }
   ],
   "source": [
    "df.describe()"
   ]
  },
  {
   "cell_type": "markdown",
   "metadata": {},
   "source": [
    "# ML"
   ]
  },
  {
   "cell_type": "code",
   "execution_count": 60,
   "metadata": {
    "ExecuteTime": {
     "end_time": "2018-08-15T19:35:01.442530Z",
     "start_time": "2018-08-15T19:35:01.435549Z"
    }
   },
   "outputs": [],
   "source": [
    "df['title_len'] = df['title'].str.len()\n",
    "df['body_len'] = df['body'].str.len()"
   ]
  },
  {
   "cell_type": "code",
   "execution_count": 61,
   "metadata": {
    "ExecuteTime": {
     "end_time": "2018-08-15T19:35:01.453501Z",
     "start_time": "2018-08-15T19:35:01.444526Z"
    }
   },
   "outputs": [],
   "source": [
    "features = ['title_len', 'body_len', 'answer_count', 'comment_count', 'score']\n",
    "target = 'view_count'"
   ]
  },
  {
   "cell_type": "code",
   "execution_count": 62,
   "metadata": {
    "ExecuteTime": {
     "end_time": "2018-08-15T19:35:01.466466Z",
     "start_time": "2018-08-15T19:35:01.454498Z"
    }
   },
   "outputs": [],
   "source": [
    "df_train, df_test = sklearn.model_selection.train_test_split(df, test_size=0.33, random_state=42)"
   ]
  },
  {
   "cell_type": "code",
   "execution_count": 63,
   "metadata": {
    "ExecuteTime": {
     "end_time": "2018-08-15T19:35:01.514338Z",
     "start_time": "2018-08-15T19:35:01.468461Z"
    }
   },
   "outputs": [
    {
     "data": {
      "text/plain": [
       "XGBRegressor(base_score=0.5, booster='gbtree', colsample_bylevel=1,\n",
       "       colsample_bytree=1, gamma=0, learning_rate=0.1, max_delta_step=0,\n",
       "       max_depth=3, min_child_weight=1, missing=None, n_estimators=100,\n",
       "       n_jobs=8, nthread=None, objective='reg:linear', random_state=0,\n",
       "       reg_alpha=0, reg_lambda=1, scale_pos_weight=1, seed=None,\n",
       "       silent=True, subsample=1)"
      ]
     },
     "execution_count": 63,
     "metadata": {},
     "output_type": "execute_result"
    }
   ],
   "source": [
    "model = xgboost.XGBRegressor(n_jobs=8)\n",
    "model.fit(df_train[features], df_train[target])"
   ]
  },
  {
   "cell_type": "code",
   "execution_count": 64,
   "metadata": {
    "ExecuteTime": {
     "end_time": "2018-08-15T19:35:01.528301Z",
     "start_time": "2018-08-15T19:35:01.516333Z"
    }
   },
   "outputs": [],
   "source": [
    "frolic.write_pickle(model, '../out/basic_model.pkl')"
   ]
  },
  {
   "cell_type": "code",
   "execution_count": 65,
   "metadata": {
    "ExecuteTime": {
     "end_time": "2018-08-15T19:35:01.542264Z",
     "start_time": "2018-08-15T19:35:01.530297Z"
    }
   },
   "outputs": [
    {
     "data": {
      "text/plain": [
       "array([ 0.02195122,  0.23170732,  0.50731707,  0.05121951,  0.18780488], dtype=float32)"
      ]
     },
     "execution_count": 65,
     "metadata": {},
     "output_type": "execute_result"
    }
   ],
   "source": [
    "model.feature_importances_"
   ]
  },
  {
   "cell_type": "markdown",
   "metadata": {},
   "source": [
    "# Predict"
   ]
  },
  {
   "cell_type": "code",
   "execution_count": 66,
   "metadata": {
    "ExecuteTime": {
     "end_time": "2018-08-15T19:35:01.726770Z",
     "start_time": "2018-08-15T19:35:01.544258Z"
    }
   },
   "outputs": [],
   "source": [
    "df_test['view_count_predict'] = model.predict(df_test[features])"
   ]
  },
  {
   "cell_type": "code",
   "execution_count": 67,
   "metadata": {
    "ExecuteTime": {
     "end_time": "2018-08-15T19:35:01.845453Z",
     "start_time": "2018-08-15T19:35:01.727767Z"
    }
   },
   "outputs": [
    {
     "data": {
      "text/plain": [
       "<matplotlib.axes._subplots.AxesSubplot at 0x15d8a1744e0>"
      ]
     },
     "execution_count": 67,
     "metadata": {},
     "output_type": "execute_result"
    },
    {
     "data": {
      "image/png": "[encoded data removed]",
      "text/plain": [
       "<matplotlib.figure.Figure at 0x15d88cc5f28>"
      ]
     },
     "metadata": {},
     "output_type": "display_data"
    }
   ],
   "source": [
    "df_test.plot.scatter('view_count_predict', 'view_count')"
   ]
  },
  {
   "cell_type": "code",
   "execution_count": 68,
   "metadata": {
    "ExecuteTime": {
     "end_time": "2018-08-15T19:35:01.871383Z",
     "start_time": "2018-08-15T19:35:01.846450Z"
    }
   },
   "outputs": [
    {
     "data": {
      "text/html": [
       "<div>\n",
       "<style scoped>\n",
       "    .dataframe tbody tr th:only-of-type {\n",
       "        vertical-align: middle;\n",
       "    }\n",
       "\n",
       "    .dataframe tbody tr th {\n",
       "        vertical-align: top;\n",
       "    }\n",
       "\n",
       "    .dataframe thead th {\n",
       "        text-align: right;\n",
       "    }\n",
       "</style>\n",
       "<table border=\"1\" class=\"dataframe\">\n",
       "  <thead>\n",
       "    <tr style=\"text-align: right;\">\n",
       "      <th></th>\n",
       "      <th>title_len</th>\n",
       "      <th>body_len</th>\n",
       "      <th>answer_count</th>\n",
       "      <th>comment_count</th>\n",
       "      <th>score</th>\n",
       "      <th>view_count</th>\n",
       "    </tr>\n",
       "  </thead>\n",
       "  <tbody>\n",
       "    <tr>\n",
       "      <th>count</th>\n",
       "      <td>1000.00000</td>\n",
       "      <td>1000.000000</td>\n",
       "      <td>1000.00000</td>\n",
       "      <td>1000.000000</td>\n",
       "      <td>1000.000000</td>\n",
       "      <td>1.000000e+03</td>\n",
       "    </tr>\n",
       "    <tr>\n",
       "      <th>mean</th>\n",
       "      <td>54.63800</td>\n",
       "      <td>1569.876000</td>\n",
       "      <td>1.18000</td>\n",
       "      <td>1.732000</td>\n",
       "      <td>9.313000</td>\n",
       "      <td>5.608378e+03</td>\n",
       "    </tr>\n",
       "    <tr>\n",
       "      <th>std</th>\n",
       "      <td>21.28657</td>\n",
       "      <td>1731.343275</td>\n",
       "      <td>2.23217</td>\n",
       "      <td>2.763659</td>\n",
       "      <td>160.271588</td>\n",
       "      <td>6.071712e+04</td>\n",
       "    </tr>\n",
       "    <tr>\n",
       "      <th>min</th>\n",
       "      <td>17.00000</td>\n",
       "      <td>77.000000</td>\n",
       "      <td>0.00000</td>\n",
       "      <td>0.000000</td>\n",
       "      <td>-9.000000</td>\n",
       "      <td>2.000000e+00</td>\n",
       "    </tr>\n",
       "    <tr>\n",
       "      <th>25%</th>\n",
       "      <td>40.00000</td>\n",
       "      <td>584.000000</td>\n",
       "      <td>0.00000</td>\n",
       "      <td>0.000000</td>\n",
       "      <td>0.000000</td>\n",
       "      <td>1.000000e+01</td>\n",
       "    </tr>\n",
       "    <tr>\n",
       "      <th>50%</th>\n",
       "      <td>51.50000</td>\n",
       "      <td>1028.500000</td>\n",
       "      <td>1.00000</td>\n",
       "      <td>1.000000</td>\n",
       "      <td>0.000000</td>\n",
       "      <td>1.700000e+01</td>\n",
       "    </tr>\n",
       "    <tr>\n",
       "      <th>75%</th>\n",
       "      <td>65.00000</td>\n",
       "      <td>1859.750000</td>\n",
       "      <td>1.00000</td>\n",
       "      <td>2.000000</td>\n",
       "      <td>1.000000</td>\n",
       "      <td>3.400000e+01</td>\n",
       "    </tr>\n",
       "    <tr>\n",
       "      <th>max</th>\n",
       "      <td>141.00000</td>\n",
       "      <td>20481.000000</td>\n",
       "      <td>34.00000</td>\n",
       "      <td>25.000000</td>\n",
       "      <td>4759.000000</td>\n",
       "      <td>1.625704e+06</td>\n",
       "    </tr>\n",
       "  </tbody>\n",
       "</table>\n",
       "</div>"
      ],
      "text/plain": [
       "        title_len      body_len  answer_count  comment_count        score  \\\n",
       "count  1000.00000   1000.000000    1000.00000    1000.000000  1000.000000   \n",
       "mean     54.63800   1569.876000       1.18000       1.732000     9.313000   \n",
       "std      21.28657   1731.343275       2.23217       2.763659   160.271588   \n",
       "min      17.00000     77.000000       0.00000       0.000000    -9.000000   \n",
       "25%      40.00000    584.000000       0.00000       0.000000     0.000000   \n",
       "50%      51.50000   1028.500000       1.00000       1.000000     0.000000   \n",
       "75%      65.00000   1859.750000       1.00000       2.000000     1.000000   \n",
       "max     141.00000  20481.000000      34.00000      25.000000  4759.000000   \n",
       "\n",
       "         view_count  \n",
       "count  1.000000e+03  \n",
       "mean   5.608378e+03  \n",
       "std    6.071712e+04  \n",
       "min    2.000000e+00  \n",
       "25%    1.000000e+01  \n",
       "50%    1.700000e+01  \n",
       "75%    3.400000e+01  \n",
       "max    1.625704e+06  "
      ]
     },
     "execution_count": 68,
     "metadata": {},
     "output_type": "execute_result"
    }
   ],
   "source": [
    "df[features+[target]].describe()"
   ]
  },
  {
   "cell_type": "code",
   "execution_count": 69,
   "metadata": {
    "ExecuteTime": {
     "end_time": "2018-08-15T19:35:01.876370Z",
     "start_time": "2018-08-15T19:35:01.872381Z"
    }
   },
   "outputs": [],
   "source": [
    "ls = [{'title_len': 55, 'body_len': 1570, 'answer_count': 1, 'comment_count': 2, 'score': 9},\n",
    "      {'title_len': 51, 'body_len': 1028, 'answer_count': 1, 'comment_count': 1, 'score': 0}]"
   ]
  },
  {
   "cell_type": "code",
   "execution_count": 71,
   "metadata": {
    "ExecuteTime": {
     "end_time": "2018-08-15T19:35:01.903298Z",
     "start_time": "2018-08-15T19:35:01.892328Z"
    }
   },
   "outputs": [
    {
     "data": {
      "text/plain": [
       "array([ 5695.87695312,   188.36068726], dtype=float32)"
      ]
     },
     "execution_count": 71,
     "metadata": {},
     "output_type": "execute_result"
    }
   ],
   "source": [
    "model.predict(pd.DataFrame(ls)[features])"
   ]
  },
  {
   "cell_type": "code",
   "execution_count": null,
   "metadata": {},
   "outputs": [],
   "source": []
  }
 ],
 "metadata": {
  "kernelspec": {
   "display_name": "Python [default]",
   "language": "python",
   "name": "python3"
  },
  "language_info": {
   "codemirror_mode": {
    "name": "ipython",
    "version": 3
   },
   "file_extension": ".py",
   "mimetype": "text/x-python",
   "name": "python",
   "nbconvert_exporter": "python",
   "pygments_lexer": "ipython3",
   "version": "3.5.4"
  },
  "toc": {
   "colors": {
    "hover_highlight": "#DAA520",
    "running_highlight": "#FF0000",
    "selected_highlight": "#FFD700"
   },
   "moveMenuLeft": true,
   "nav_menu": {
    "height": "12px",
    "width": "252px"
   },
   "navigate_menu": true,
   "number_sections": true,
   "sideBar": true,
   "threshold": 4,
   "toc_cell": false,
   "toc_section_display": "block",
   "toc_window_display": false,
   "widenNotebook": false
  },
  "varInspector": {
   "cols": {
    "lenName": 16,
    "lenType": 16,
    "lenVar": 40
   },
   "kernels_config": {
    "python": {
     "delete_cmd_postfix": "",
     "delete_cmd_prefix": "del ",
     "library": "var_list.py",
     "varRefreshCmd": "print(var_dic_list())"
    },
    "r": {
     "delete_cmd_postfix": ") ",
     "delete_cmd_prefix": "rm(",
     "library": "var_list.r",
     "varRefreshCmd": "cat(var_dic_list()) "
    }
   },
   "types_to_exclude": [
    "module",
    "function",
    "builtin_function_or_method",
    "instance",
    "_Feature"
   ],
   "window_display": false
  }
 },
 "nbformat": 4,
 "nbformat_minor": 2
}
